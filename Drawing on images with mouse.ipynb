{
 "cells": [
  {
   "cell_type": "code",
   "execution_count": null,
   "id": "e09837db",
   "metadata": {},
   "outputs": [],
   "source": [
    "import cv2\n",
    "import numpy as np\n",
    "\n",
    "\n",
    "\n",
    "##########\n",
    "##Function##\n",
    "\n",
    "##we're doing here is we're creating a function that takes in these parameters,\n",
    "##as an event the X and Y coordinates of that event with the mouse flags and then parameters.\n",
    "\n",
    "def draw_circle(event,x,y,flags,param):\n",
    "\n",
    "##And then we're checking if a particular event occurred.    \n",
    "    if event == cv2.EVENT_LBUTTONDOWN:\n",
    "\n",
    "##And if it did, then we'll go ahead and do something to that image, such as drawing on the image.\n",
    "        cv2.circle(img,(x,y),75,(0,0,255),5)\n",
    "    elif event == cv2.EVENT_RBUTTONDOWN:\n",
    "        cv2.circle(img,(x,y),75,(225,0,0),5)\n",
    "##We also have a named window and the mouse callback connected based off the window name to the image being shown.\n",
    "cv2.namedWindow(winname='my_drawing')\n",
    "\n",
    "cv2.setMouseCallback('my_drawing',draw_circle)\n",
    "\n",
    "#############\n",
    "##SHOWING IMAGE WITH OPENCV\n",
    "##############\n",
    "\n",
    "\n",
    "\n",
    "img=np.zeros((720,720,3))\n",
    "\n",
    "\n",
    "while True:\n",
    "    \n",
    "    cv2.imshow('my_drawing',img)\n",
    "    \n",
    "    \n",
    "    if cv2.waitKey(20) & 0xFF == 27:\n",
    "        break\n",
    "\n",
    "cv2.destroyAllWindows()\n",
    "\n",
    "    "
   ]
  },
  {
   "cell_type": "code",
   "execution_count": null,
   "id": "9cde31fa",
   "metadata": {},
   "outputs": [],
   "source": []
  }
 ],
 "metadata": {
  "kernelspec": {
   "display_name": "Python 3 (ipykernel)",
   "language": "python",
   "name": "python3"
  },
  "language_info": {
   "codemirror_mode": {
    "name": "ipython",
    "version": 3
   },
   "file_extension": ".py",
   "mimetype": "text/x-python",
   "name": "python",
   "nbconvert_exporter": "python",
   "pygments_lexer": "ipython3",
   "version": "3.11.3"
  }
 },
 "nbformat": 4,
 "nbformat_minor": 5
}
